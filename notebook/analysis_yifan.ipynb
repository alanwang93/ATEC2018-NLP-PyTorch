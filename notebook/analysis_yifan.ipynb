{
 "cells": [
  {
   "cell_type": "code",
   "execution_count": 142,
   "metadata": {
    "collapsed": true
   },
   "outputs": [],
   "source": [
    "import numpy as np"
   ]
  },
  {
   "cell_type": "code",
   "execution_count": 184,
   "metadata": {
    "collapsed": true
   },
   "outputs": [],
   "source": [
    "train = open('../data/processed/train.word','r').readlines()\n",
    "freqsf = open('../data/processed/freqs.txt', 'r').readlines()"
   ]
  },
  {
   "cell_type": "code",
   "execution_count": 185,
   "metadata": {},
   "outputs": [],
   "source": [
    "s1s = [l.split('\\t')[1].split(' ') for l in train]\n",
    "s2s = [l.split('\\t')[2].split(' ') for l in train]\n",
    "labels = [int(l.split('\\t')[3]) for l in train]\n",
    "words = [s.split(' ')[0] for s in freqsf if s[0] != ' ']\n",
    "freqs = [int(s.strip().split(' ')[1]) for s in freqsf  if s[0] != ' ']"
   ]
  },
  {
   "cell_type": "code",
   "execution_count": null,
   "metadata": {},
   "outputs": [],
   "source": []
  },
  {
   "cell_type": "code",
   "execution_count": 186,
   "metadata": {},
   "outputs": [
    {
     "name": "stdout",
     "output_type": "stream",
     "text": [
      "[27676, 7735] 3.578021978021978\n"
     ]
    }
   ],
   "source": [
    "count = [0,0]\n",
    "for l in labels:\n",
    "    count[l] += 1\n",
    "print(count, float(count[0])/count[1])\n",
    "ratio = float(count[0])/count[1]"
   ]
  },
  {
   "cell_type": "code",
   "execution_count": 222,
   "metadata": {},
   "outputs": [],
   "source": [
    "def analyze_boolean_feature(func, verbose=False):\n",
    "    ratio = float(count[0])/count[1]\n",
    "    eps = 1e-6\n",
    "#     ratio = 1.\n",
    "    n = 0\n",
    "    results = [[0, 0], [0, 0]]\n",
    "    hit = [0,0]\n",
    "    cls = [0,0]\n",
    "    for s1, s2, l in zip(s1s, s2s, labels):\n",
    "        n += 1\n",
    "        r = func(s1, s2, l)\n",
    "        results[r][l] += 1\n",
    "        hit[r] += 1\n",
    "        cls[l] += 1\n",
    "    PCF = np.zeros((2,2)) # P(C|F)\n",
    "    PFC = np.zeros((2,2)) # P(F|C)\n",
    "    for c in [0,1]:\n",
    "        for f in [0,1]: \n",
    "            PCF[c,f] = results[f][c]/float(hit[f] + eps) \n",
    "    for c in [0,1]:\n",
    "        for f in [0,1]: \n",
    "            PFC[f,c] = results[f][c]/float(cls[c] + eps) \n",
    "    if verbose:\n",
    "        print(\"# C            0         1\")\n",
    "        print(\"# P(C|F=0)   {0:.3f}      {1:.3f}\".format(PCF[0,0], PCF[1,0]))\n",
    "        print(\"# P(C|F=1)   {0:.3f}      {1:.3f}\".format(PCF[0,1], PCF[1,1]))\n",
    "#         print(\"# Feature=0  {0:.3f}      {1:.3f}\".format(results[0][0]/float(n), results[0][1]/float(n)*ratio))\n",
    "#         print(\"# Feature=1  {0:.3f}      {1:.3f}\".format(results[1][0]/float(n), results[1][1]/float(n)*ratio))  \n",
    "        print(\"# P(F=0|C)   {0:.3f}      {1:.3f}\".format(PFC[0,0], PFC[0,1]))\n",
    "        print(\"# P(F=1|C)   {0:.3f}      {1:.3f}\".format(PFC[1,0], PFC[1,1]))\n",
    "    return PCF, PFC"
   ]
  },
  {
   "cell_type": "code",
   "execution_count": 225,
   "metadata": {},
   "outputs": [
    {
     "name": "stdout",
     "output_type": "stream",
     "text": [
      "# C            0         1\n",
      "# P(C|F=0)   0.776      0.224\n",
      "# P(C|F=1)   0.927      0.073\n",
      "# P(F=0|C)   0.955      0.987\n",
      "# P(F=1|C)   0.045      0.013\n"
     ]
    },
    {
     "data": {
      "text/plain": [
       "(array([[ 0.7758474 ,  0.92739521],\n",
       "        [ 0.2241526 ,  0.07260479]]), array([[ 0.95523197,  0.9874596 ],\n",
       "        [ 0.04476803,  0.0125404 ]]))"
      ]
     },
     "execution_count": 225,
     "metadata": {},
     "output_type": "execute_result"
    }
   ],
   "source": [
    "def func(s1, s2, l):\n",
    "    # 只在一个句子中有该词\n",
    "    word = u'花呗' # 要注意同义词, 手动设置近义疑问词\n",
    "    if (word in s1 and word not in s2) or (word in s2 and word not in s1):\n",
    "#         if l == 1:\n",
    "#             print(s1, s2)\n",
    "        return 1\n",
    "    else:\n",
    "        return 0\n",
    "\n",
    "analyze_boolean_feature(func, True)\n",
    "# 花呗\n",
    "#              0         1\n",
    "# Feature=0  0.787      0.815\n",
    "# Feature=1  0.931      0.265\n",
    "# Feature=0  0.756      0.782\n",
    "# Feature=1  0.038      0.011\n",
    "\n",
    "# 借呗\n",
    "#              0         1\n",
    "# Feature=0  0.786      0.822\n",
    "# Feature=1  0.946      0.208\n",
    "# Feature=0  0.749      0.783\n",
    "# Feature=1  0.044      0.010"
   ]
  },
  {
   "cell_type": "code",
   "execution_count": 229,
   "metadata": {},
   "outputs": [
    {
     "name": "stdout",
     "output_type": "stream",
     "text": [
      "花呗\t P(C=0|F=0)=0.776, P(C=0|F=1)=0.927, P(F=1|C=0)=0.045, P(F=1|C=1)=0.013\n",
      "借呗\t P(C=0|F=0)=0.774, P(C=0|F=1)=0.956, P(F=1|C=0)=0.051, P(F=1|C=1)=0.008\n",
      "分期\t P(C=0|F=0)=0.776, P(C=0|F=1)=0.891, P(F=1|C=0)=0.053, P(F=1|C=1)=0.023\n",
      "多少\t P(C=0|F=0)=0.779, P(C=0|F=1)=0.881, P(F=1|C=0)=0.025, P(F=1|C=1)=0.012\n",
      "逾期\t P(C=0|F=0)=0.779, P(C=0|F=1)=0.912, P(F=1|C=0)=0.026, P(F=1|C=1)=0.009\n",
      "提前\t P(C=0|F=0)=0.779, P(C=0|F=1)=0.934, P(F=1|C=0)=0.022, P(F=1|C=1)=0.005\n",
      "银行卡\t P(C=0|F=0)=0.780, P(C=0|F=1)=0.884, P(F=1|C=0)=0.018, P(F=1|C=1)=0.008\n",
      "余额\t P(C=0|F=0)=0.779, P(C=0|F=1)=0.920, P(F=1|C=0)=0.022, P(F=1|C=1)=0.007\n",
      "淘宝\t P(C=0|F=0)=0.780, P(C=0|F=1)=0.894, P(F=1|C=0)=0.020, P(F=1|C=1)=0.009\n",
      "临时\t P(C=0|F=0)=0.780, P(C=0|F=1)=0.955, P(F=1|C=0)=0.010, P(F=1|C=1)=0.002\n",
      "影响\t P(C=0|F=0)=0.780, P(C=0|F=1)=0.918, P(F=1|C=0)=0.012, P(F=1|C=1)=0.004\n",
      "利息\t P(C=0|F=0)=0.781, P(C=0|F=1)=0.886, P(F=1|C=0)=0.011, P(F=1|C=1)=0.005\n",
      "信用卡\t P(C=0|F=0)=0.780, P(C=0|F=1)=0.946, P(F=1|C=0)=0.013, P(F=1|C=1)=0.003\n",
      "手续费\t P(C=0|F=0)=0.781, P(C=0|F=1)=0.886, P(F=1|C=0)=0.010, P(F=1|C=1)=0.004\n",
      "扣\t P(C=0|F=0)=0.780, P(C=0|F=1)=0.881, P(F=1|C=0)=0.020, P(F=1|C=1)=0.010\n",
      "是不是\t P(C=0|F=0)=0.779, P(C=0|F=1)=0.895, P(F=1|C=0)=0.023, P(F=1|C=1)=0.010\n",
      "最低\t P(C=0|F=0)=0.780, P(C=0|F=1)=0.982, P(F=1|C=0)=0.010, P(F=1|C=1)=0.001\n",
      "宝\t P(C=0|F=0)=0.781, P(C=0|F=1)=0.887, P(F=1|C=0)=0.010, P(F=1|C=1)=0.005\n",
      "不是\t P(C=0|F=0)=0.780, P(C=0|F=1)=0.907, P(F=1|C=0)=0.017, P(F=1|C=1)=0.006\n",
      "算\t P(C=0|F=0)=0.780, P(C=0|F=1)=0.910, P(F=1|C=0)=0.012, P(F=1|C=1)=0.004\n",
      "身份证\t P(C=0|F=0)=0.781, P(C=0|F=1)=0.888, P(F=1|C=0)=0.005, P(F=1|C=1)=0.002\n",
      "为啥\t P(C=0|F=0)=0.783, P(C=0|F=1)=0.676, P(F=1|C=0)=0.011, P(F=1|C=1)=0.018\n",
      "积分\t P(C=0|F=0)=0.781, P(C=0|F=1)=0.885, P(F=1|C=0)=0.006, P(F=1|C=1)=0.003\n",
      "电费\t P(C=0|F=0)=0.781, P(C=0|F=1)=0.929, P(F=1|C=0)=0.005, P(F=1|C=1)=0.001\n",
      "充值\t P(C=0|F=0)=0.782, P(C=0|F=1)=0.662, P(F=1|C=0)=0.005, P(F=1|C=1)=0.009\n",
      "密码\t P(C=0|F=0)=0.781, P(C=0|F=1)=0.947, P(F=1|C=0)=0.003, P(F=1|C=1)=0.001\n",
      "免息\t P(C=0|F=0)=0.781, P(C=0|F=1)=0.980, P(F=1|C=0)=0.004, P(F=1|C=1)=0.000\n",
      "红包\t P(C=0|F=0)=0.781, P(C=0|F=1)=0.944, P(F=1|C=0)=0.004, P(F=1|C=1)=0.001\n",
      "限制\t P(C=0|F=0)=0.781, P(C=0|F=1)=0.923, P(F=1|C=0)=0.005, P(F=1|C=1)=0.002\n",
      "二维码\t P(C=0|F=0)=0.781, P(C=0|F=1)=0.888, P(F=1|C=0)=0.005, P(F=1|C=1)=0.002\n",
      "授权\t P(C=0|F=0)=0.781, P(C=0|F=1)=0.890, P(F=1|C=0)=0.002, P(F=1|C=1)=0.001\n",
      "限额\t P(C=0|F=0)=0.781, P(C=0|F=1)=0.942, P(F=1|C=0)=0.004, P(F=1|C=1)=0.001\n",
      "更改\t P(C=0|F=0)=0.782, P(C=0|F=1)=0.664, P(F=1|C=0)=0.005, P(F=1|C=1)=0.010\n",
      "没到\t P(C=0|F=0)=0.782, P(C=0|F=1)=0.604, P(F=1|C=0)=0.004, P(F=1|C=1)=0.009\n",
      "方式\t P(C=0|F=0)=0.781, P(C=0|F=1)=0.895, P(F=1|C=0)=0.006, P(F=1|C=1)=0.003\n",
      "别人\t P(C=0|F=0)=0.781, P(C=0|F=1)=0.885, P(F=1|C=0)=0.007, P(F=1|C=1)=0.003\n",
      "充\t P(C=0|F=0)=0.782, P(C=0|F=1)=0.627, P(F=1|C=0)=0.004, P(F=1|C=1)=0.009\n",
      "评估\t P(C=0|F=0)=0.781, P(C=0|F=1)=0.908, P(F=1|C=0)=0.002, P(F=1|C=1)=0.001\n",
      "单车\t P(C=0|F=0)=0.781, P(C=0|F=1)=0.955, P(F=1|C=0)=0.002, P(F=1|C=1)=0.000\n",
      "微信\t P(C=0|F=0)=0.781, P(C=0|F=1)=0.964, P(F=1|C=0)=0.002, P(F=1|C=1)=0.000\n",
      "兑换\t P(C=0|F=0)=0.781, P(C=0|F=1)=0.911, P(F=1|C=0)=0.003, P(F=1|C=1)=0.001\n",
      "负\t P(C=0|F=0)=0.781, P(C=0|F=1)=0.913, P(F=1|C=0)=0.005, P(F=1|C=1)=0.002\n",
      "卖家\t P(C=0|F=0)=0.781, P(C=0|F=1)=0.912, P(F=1|C=0)=0.004, P(F=1|C=1)=0.002\n",
      "线下\t P(C=0|F=0)=0.781, P(C=0|F=1)=0.898, P(F=1|C=0)=0.004, P(F=1|C=1)=0.002\n",
      "先\t P(C=0|F=0)=0.781, P(C=0|F=1)=0.924, P(F=1|C=0)=0.005, P(F=1|C=1)=0.002\n",
      "返现\t P(C=0|F=0)=0.781, P(C=0|F=1)=0.929, P(F=1|C=0)=0.001, P(F=1|C=1)=0.000\n",
      "超市\t P(C=0|F=0)=0.781, P(C=0|F=1)=0.891, P(F=1|C=0)=0.002, P(F=1|C=1)=0.001\n",
      "六个月\t P(C=0|F=0)=0.782, P(C=0|F=1)=0.651, P(F=1|C=0)=0.003, P(F=1|C=1)=0.006\n",
      "滴滴\t P(C=0|F=0)=0.781, P(C=0|F=1)=0.882, P(F=1|C=0)=0.002, P(F=1|C=1)=0.001\n",
      "请\t P(C=0|F=0)=0.782, P(C=0|F=1)=0.654, P(F=1|C=0)=0.003, P(F=1|C=1)=0.006\n",
      "双\t P(C=0|F=0)=0.781, P(C=0|F=1)=0.927, P(F=1|C=0)=0.004, P(F=1|C=1)=0.001\n",
      "放款\t P(C=0|F=0)=0.782, P(C=0|F=1)=0.647, P(F=1|C=0)=0.002, P(F=1|C=1)=0.004\n",
      "产生\t P(C=0|F=0)=0.782, P(C=0|F=1)=0.621, P(F=1|C=0)=0.002, P(F=1|C=1)=0.005\n",
      "几个\t P(C=0|F=0)=0.781, P(C=0|F=1)=0.902, P(F=1|C=0)=0.004, P(F=1|C=1)=0.002\n",
      "一期\t P(C=0|F=0)=0.781, P(C=0|F=1)=0.891, P(F=1|C=0)=0.004, P(F=1|C=1)=0.002\n",
      "少\t P(C=0|F=0)=0.781, P(C=0|F=1)=0.883, P(F=1|C=0)=0.003, P(F=1|C=1)=0.002\n",
      "不足\t P(C=0|F=0)=0.781, P(C=0|F=1)=0.913, P(F=1|C=0)=0.002, P(F=1|C=1)=0.001\n",
      "绑\t P(C=0|F=0)=0.781, P(C=0|F=1)=0.883, P(F=1|C=0)=0.004, P(F=1|C=1)=0.002\n",
      "没收\t P(C=0|F=0)=0.782, P(C=0|F=1)=0.667, P(F=1|C=0)=0.002, P(F=1|C=1)=0.004\n",
      "邀请\t P(C=0|F=0)=0.781, P(C=0|F=1)=0.891, P(F=1|C=0)=0.001, P(F=1|C=1)=0.001\n",
      "服务费\t P(C=0|F=0)=0.781, P(C=0|F=1)=0.894, P(F=1|C=0)=0.002, P(F=1|C=1)=0.001\n",
      "店铺\t P(C=0|F=0)=0.781, P(C=0|F=1)=0.907, P(F=1|C=0)=0.004, P(F=1|C=1)=0.001\n",
      "活动\t P(C=0|F=0)=0.781, P(C=0|F=1)=0.885, P(F=1|C=0)=0.002, P(F=1|C=1)=0.001\n",
      "繁忙\t P(C=0|F=0)=0.782, P(C=0|F=1)=0.667, P(F=1|C=0)=0.000, P(F=1|C=1)=0.000\n",
      "密付\t P(C=0|F=0)=0.782, P(C=0|F=1)=0.656, P(F=1|C=0)=0.001, P(F=1|C=1)=0.001\n",
      "电脑\t P(C=0|F=0)=0.781, P(C=0|F=1)=0.974, P(F=1|C=0)=0.003, P(F=1|C=1)=0.000\n",
      "必须\t P(C=0|F=0)=0.781, P(C=0|F=1)=0.941, P(F=1|C=0)=0.004, P(F=1|C=1)=0.001\n",
      "全额\t P(C=0|F=0)=0.781, P(C=0|F=1)=0.944, P(F=1|C=0)=0.003, P(F=1|C=1)=0.001\n",
      "多长时间\t P(C=0|F=0)=0.782, P(C=0|F=1)=0.676, P(F=1|C=0)=0.002, P(F=1|C=1)=0.004\n",
      "津贴\t P(C=0|F=0)=0.782, P(C=0|F=1)=1.000, P(F=1|C=0)=0.000, P(F=1|C=1)=0.000\n",
      "两次\t P(C=0|F=0)=0.781, P(C=0|F=1)=0.916, P(F=1|C=0)=0.003, P(F=1|C=1)=0.001\n",
      "转到\t P(C=0|F=0)=0.782, P(C=0|F=1)=0.645, P(F=1|C=0)=0.002, P(F=1|C=1)=0.003\n",
      "人脸识别\t P(C=0|F=0)=0.782, P(C=0|F=1)=0.652, P(F=1|C=0)=0.001, P(F=1|C=1)=0.001\n",
      "按\t P(C=0|F=0)=0.781, P(C=0|F=1)=0.883, P(F=1|C=0)=0.003, P(F=1|C=1)=0.002\n",
      "证明\t P(C=0|F=0)=0.781, P(C=0|F=1)=0.944, P(F=1|C=0)=0.001, P(F=1|C=1)=0.000\n",
      "共享\t P(C=0|F=0)=0.781, P(C=0|F=1)=0.908, P(F=1|C=0)=0.002, P(F=1|C=1)=0.001\n",
      "几点\t P(C=0|F=0)=0.781, P(C=0|F=1)=0.910, P(F=1|C=0)=0.003, P(F=1|C=1)=0.001\n",
      "负面\t P(C=0|F=0)=0.781, P(C=0|F=1)=0.947, P(F=1|C=0)=0.001, P(F=1|C=1)=0.000\n",
      "推迟\t P(C=0|F=0)=0.782, P(C=0|F=1)=0.558, P(F=1|C=0)=0.002, P(F=1|C=1)=0.004\n",
      "低\t P(C=0|F=0)=0.781, P(C=0|F=1)=0.932, P(F=1|C=0)=0.002, P(F=1|C=1)=0.001\n",
      "通讯录\t P(C=0|F=0)=0.781, P(C=0|F=1)=1.000, P(F=1|C=0)=0.001, P(F=1|C=1)=0.000\n",
      "买家\t P(C=0|F=0)=0.781, P(C=0|F=1)=0.890, P(F=1|C=0)=0.003, P(F=1|C=1)=0.001\n",
      "一起\t P(C=0|F=0)=0.781, P(C=0|F=1)=0.920, P(F=1|C=0)=0.003, P(F=1|C=1)=0.001\n",
      "天猫\t P(C=0|F=0)=0.781, P(C=0|F=1)=0.913, P(F=1|C=0)=0.003, P(F=1|C=1)=0.001\n",
      "一年\t P(C=0|F=0)=0.781, P(C=0|F=1)=0.911, P(F=1|C=0)=0.003, P(F=1|C=1)=0.001\n",
      "学历\t P(C=0|F=0)=0.781, P(C=0|F=1)=0.885, P(F=1|C=0)=0.001, P(F=1|C=1)=0.000\n",
      "几次\t P(C=0|F=0)=0.781, P(C=0|F=1)=0.927, P(F=1|C=0)=0.003, P(F=1|C=1)=0.001\n",
      "口碑\t P(C=0|F=0)=0.781, P(C=0|F=1)=0.951, P(F=1|C=0)=0.001, P(F=1|C=1)=0.000\n",
      "客户\t P(C=0|F=0)=0.781, P(C=0|F=1)=0.895, P(F=1|C=0)=0.003, P(F=1|C=1)=0.001\n",
      "实体店\t P(C=0|F=0)=0.781, P(C=0|F=1)=0.885, P(F=1|C=0)=0.003, P(F=1|C=1)=0.001\n",
      "领取\t P(C=0|F=0)=0.781, P(C=0|F=1)=0.901, P(F=1|C=0)=0.003, P(F=1|C=1)=0.001\n"
     ]
    }
   ],
   "source": [
    "def build_func(word):\n",
    "    def func(s1, s2, l):\n",
    "        # 只在一个句子中有该词\n",
    "        if (word in s1 and word not in s2) or (word in s2 and word not in s1):\n",
    "            return 1\n",
    "        else:\n",
    "            return 0\n",
    "    return func\n",
    "cands = []\n",
    "for w, f in zip(words, freqs):\n",
    "    if f > 100:\n",
    "        func = build_func(w)\n",
    "        PCF, PFC = analyze_boolean_feature(func)\n",
    "        if np.abs(PCF[0,0] - PCF[0,1]) > 0.1:\n",
    "            print(\"{0}\\t P(C=0|F=0)={1:.3f}, P(C=0|F=1)={2:.3f}, P(F=1|C=0)={3:.3f}, P(F=1|C=1)={4:.3f}\"\\\n",
    "                                  .format(w, PCF[0,0], PCF[0,1], PFC[1,0], PFC[1,1]))\n",
    "            cands.append(w)\n",
    "        \n",
    "    "
   ]
  },
  {
   "cell_type": "code",
   "execution_count": 230,
   "metadata": {},
   "outputs": [
    {
     "data": {
      "text/plain": [
       "['花呗',\n",
       " '借呗',\n",
       " '分期',\n",
       " '多少',\n",
       " '逾期',\n",
       " '提前',\n",
       " '银行卡',\n",
       " '余额',\n",
       " '淘宝',\n",
       " '临时',\n",
       " '影响',\n",
       " '利息',\n",
       " '信用卡',\n",
       " '手续费',\n",
       " '扣',\n",
       " '是不是',\n",
       " '最低',\n",
       " '宝',\n",
       " '不是',\n",
       " '算',\n",
       " '身份证',\n",
       " '为啥',\n",
       " '积分',\n",
       " '电费',\n",
       " '充值',\n",
       " '密码',\n",
       " '免息',\n",
       " '红包',\n",
       " '限制',\n",
       " '二维码',\n",
       " '授权',\n",
       " '限额',\n",
       " '更改',\n",
       " '没到',\n",
       " '方式',\n",
       " '别人',\n",
       " '充',\n",
       " '评估',\n",
       " '单车',\n",
       " '微信',\n",
       " '兑换',\n",
       " '负',\n",
       " '卖家',\n",
       " '线下',\n",
       " '先',\n",
       " '返现',\n",
       " '超市',\n",
       " '六个月',\n",
       " '滴滴',\n",
       " '请',\n",
       " '双',\n",
       " '放款',\n",
       " '产生',\n",
       " '几个',\n",
       " '一期',\n",
       " '少',\n",
       " '不足',\n",
       " '绑',\n",
       " '没收',\n",
       " '邀请',\n",
       " '服务费',\n",
       " '店铺',\n",
       " '活动',\n",
       " '繁忙',\n",
       " '密付',\n",
       " '电脑',\n",
       " '必须',\n",
       " '全额',\n",
       " '多长时间',\n",
       " '津贴',\n",
       " '两次',\n",
       " '转到',\n",
       " '人脸识别',\n",
       " '按',\n",
       " '证明',\n",
       " '共享',\n",
       " '几点',\n",
       " '负面',\n",
       " '推迟',\n",
       " '低',\n",
       " '通讯录',\n",
       " '买家',\n",
       " '一起',\n",
       " '天猫',\n",
       " '一年',\n",
       " '学历',\n",
       " '几次',\n",
       " '口碑',\n",
       " '客户',\n",
       " '实体店',\n",
       " '领取']"
      ]
     },
     "execution_count": 230,
     "metadata": {},
     "output_type": "execute_result"
    }
   ],
   "source": [
    "cands"
   ]
  },
  {
   "cell_type": "code",
   "execution_count": 163,
   "metadata": {},
   "outputs": [],
   "source": [
    "def contains(words, l):\n",
    "    for w in words:\n",
    "        if w in l:\n",
    "            return True\n",
    "    return False\n",
    "\n",
    "def func(s1, s2, l):\n",
    "    # 只在一个句子中有该类词\n",
    "    word = [u'借呗'] # 要注意同义词, 手动设置近义疑问词\n",
    "    if (contains(word, s1) and not contains(word, s2)) or (contains(word, s2) and not contains(word, s1)):\n",
    "#         if l == 1:\n",
    "#             print(s1, s2)\n",
    "        return 1\n",
    "    else:\n",
    "        return 0\n",
    "\n",
    "analyze_boolean_feature(func)"
   ]
  },
  {
   "cell_type": "code",
   "execution_count": 214,
   "metadata": {},
   "outputs": [
    {
     "name": "stdout",
     "output_type": "stream",
     "text": [
      "# C            0         1\n",
      "# P(C|F=0)   0.783      0.217\n",
      "# P(C|F=1)   0.667      0.333\n",
      "# P(F=0|C)   0.986      0.975\n",
      "# P(F=1|C)   0.014      0.025\n"
     ]
    },
    {
     "data": {
      "text/plain": [
       "(array([[ 0.78345485,  0.66666667],\n",
       "        [ 0.21654515,  0.33333333]]), array([[ 0.98619743,  0.97530705],\n",
       "        [ 0.01380257,  0.02469295]]))"
      ]
     },
     "execution_count": 214,
     "metadata": {},
     "output_type": "execute_result"
    }
   ],
   "source": [
    "def func(s1, s2, l):\n",
    "    # 两个句子里都有该词\n",
    "    word = u'退款'\n",
    "    if word in s1 and word in s2:\n",
    "        return 1\n",
    "    else:\n",
    "        return 0\n",
    "\n",
    "analyze_boolean_feature(func, True)"
   ]
  },
  {
   "cell_type": "code",
   "execution_count": 228,
   "metadata": {},
   "outputs": [
    {
     "name": "stdout",
     "output_type": "stream",
     "text": [
      "在\t P(C=0|F=0)=0.783, P(C=0|F=1)=0.662, P(F=1|C=0)=0.010, P(F=1|C=1)=0.018\n",
      "退款\t P(C=0|F=0)=0.783, P(C=0|F=1)=0.667, P(F=1|C=0)=0.014, P(F=1|C=1)=0.025\n",
      "关闭\t P(C=0|F=0)=0.783, P(C=0|F=1)=0.644, P(F=1|C=0)=0.010, P(F=1|C=1)=0.020\n"
     ]
    }
   ],
   "source": [
    "def build_func(word):\n",
    "    def func(s1, s2, l):\n",
    "        # 两个句子里都有该词\n",
    "        if word in s1 and word in s2:\n",
    "            return 1\n",
    "        else:\n",
    "            return 0\n",
    "    return func\n",
    "    \n",
    "for w, f in zip(words, freqs):\n",
    "    if f > 100:\n",
    "        func = build_func(w)\n",
    "        PCF, PFC = analyze_boolean_feature(func)\n",
    "        if np.abs(PCF[0,0] - PCF[0,1]) > 0.1 and PFC[1,0] > 0.01:\n",
    "            print(\"{0}\\t P(C=0|F=0)={1:.3f}, P(C=0|F=1)={2:.3f}, P(F=1|C=0)={3:.3f}, P(F=1|C=1)={4:.3f}\"\\\n",
    "                                  .format(w, PCF[0,0], PCF[0,1], PFC[1,0], PFC[1,1]))\n",
    "        \n",
    "    "
   ]
  },
  {
   "cell_type": "code",
   "execution_count": 206,
   "metadata": {},
   "outputs": [
    {
     "name": "stdout",
     "output_type": "stream",
     "text": [
      "# C            0         1\n",
      "# P(C|F=0)   0.790      0.210\n",
      "# P(C|F=1)   0.759      0.241\n",
      "# P(F=0|C)   0.733      0.697\n",
      "# P(F=1|C)   0.267      0.303\n"
     ]
    },
    {
     "data": {
      "text/plain": [
       "(array([[ 0.79011336,  0.75903491],\n",
       "        [ 0.20988664,  0.24096509]]), array([[ 0.73287325,  0.69657401],\n",
       "        [ 0.26712675,  0.30342599]]))"
      ]
     },
     "execution_count": 206,
     "metadata": {},
     "output_type": "execute_result"
    }
   ],
   "source": [
    "def func(s1, s2, l):\n",
    "    # 两个句子里都没有该词\n",
    "    word = u'花呗'\n",
    "    if word not in s1 and word not in s2:\n",
    "        return 1\n",
    "    else:\n",
    "        return 0\n",
    "\n",
    "analyze_boolean_feature(func, True)"
   ]
  },
  {
   "cell_type": "code",
   "execution_count": null,
   "metadata": {},
   "outputs": [],
   "source": []
  },
  {
   "cell_type": "code",
   "execution_count": null,
   "metadata": {},
   "outputs": [],
   "source": []
  },
  {
   "cell_type": "code",
   "execution_count": null,
   "metadata": {
    "collapsed": true
   },
   "outputs": [],
   "source": []
  },
  {
   "cell_type": "code",
   "execution_count": null,
   "metadata": {
    "collapsed": true
   },
   "outputs": [],
   "source": []
  }
 ],
 "metadata": {
  "kernelspec": {
   "display_name": "Python 3",
   "language": "python",
   "name": "python3"
  },
  "language_info": {
   "codemirror_mode": {
    "name": "ipython",
    "version": 2
   },
   "file_extension": ".py",
   "mimetype": "text/x-python",
   "name": "python",
   "nbconvert_exporter": "python",
   "pygments_lexer": "ipython2",
   "version": "2.7.13"
  }
 },
 "nbformat": 4,
 "nbformat_minor": 2
}
