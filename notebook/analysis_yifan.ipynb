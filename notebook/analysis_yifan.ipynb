{
 "cells": [
  {
   "cell_type": "code",
   "execution_count": 142,
   "metadata": {
    "collapsed": true
   },
   "outputs": [],
   "source": [
    "import numpy as np"
   ]
  },
  {
   "cell_type": "code",
   "execution_count": 184,
   "metadata": {
    "collapsed": true
   },
   "outputs": [],
   "source": [
    "train = open('../data/processed/train.word','r').readlines()\n",
    "freqsf = open('../data/processed/freqs.txt', 'r').readlines()"
   ]
  },
  {
   "cell_type": "code",
   "execution_count": 185,
   "metadata": {},
   "outputs": [],
   "source": [
    "s1s = [l.split('\\t')[1].split(' ') for l in train]\n",
    "s2s = [l.split('\\t')[2].split(' ') for l in train]\n",
    "labels = [int(l.split('\\t')[3]) for l in train]\n",
    "words = [s.split(' ')[0] for s in freqsf if s[0] != ' ']\n",
    "freqs = [int(s.strip().split(' ')[1]) for s in freqsf  if s[0] != ' ']"
   ]
  },
  {
   "cell_type": "code",
   "execution_count": null,
   "metadata": {},
   "outputs": [],
   "source": []
  },
  {
   "cell_type": "code",
   "execution_count": 186,
   "metadata": {},
   "outputs": [
    {
     "name": "stdout",
     "output_type": "stream",
     "text": [
      "[27676, 7735] 3.578021978021978\n"
     ]
    }
   ],
   "source": [
    "count = [0,0]\n",
    "for l in labels:\n",
    "    count[l] += 1\n",
    "print(count, float(count[0])/count[1])\n",
    "ratio = float(count[0])/count[1]"
   ]
  },
  {
   "cell_type": "code",
   "execution_count": 202,
   "metadata": {},
   "outputs": [],
   "source": [
    "def analyze_boolean_feature(func, verbose=False):\n",
    "    ratio = float(count[0])/count[1]\n",
    "    eps = 1e-6\n",
    "#     ratio = 1.\n",
    "    n = 0\n",
    "    results = [[0, 0], [0, 0]]\n",
    "    hit = [0,0]\n",
    "    cls = [0,0]\n",
    "    for s1, s2, l in zip(s1s, s2s, labels):\n",
    "        n += 1\n",
    "        r = func(s1, s2, l)\n",
    "        results[r][l] += 1\n",
    "        hit[r] += 1\n",
    "        cls[l] += 1\n",
    "    PCF = np.zeros((2,2)) # P(C|F)\n",
    "    PFC = np.zeros((2,2)) # P(F|C)\n",
    "    for c in [0,1]:\n",
    "        for f in [0,1]: \n",
    "            PCF[c,f] = results[f][c]/float(hit[f] + eps) \n",
    "    for c in [0,1]:\n",
    "        for f in [0,1]: \n",
    "            PFC[f,c] = results[f][c]/float(cls[c] + eps) \n",
    "    if verbose:\n",
    "        print(\"# C            0         1\")\n",
    "        print(\"# P(C|F=0)   {0:.3f}      {1:.3f}\".format(PCF[0,0], PCF[1,0]))\n",
    "        print(\"# P(C|F=1)   {0:.3f}      {1:.3f}\".format(PCF[0,1], PCF[1,1]))\n",
    "#         print(\"# Feature=0  {0:.3f}      {1:.3f}\".format(results[0][0]/float(n), results[0][1]/float(n)*ratio))\n",
    "#         print(\"# Feature=1  {0:.3f}      {1:.3f}\".format(results[1][0]/float(n), results[1][1]/float(n)*ratio))  \n",
    "        print(\"# P(F=0|C)   {0:.3f}      {1:.3f}\".format(PFC[0,0], PFC[0,1]))\n",
    "        print(\"# P(F=1|C)   {0:.3f}      {1:.3f}\".format(PFC[1,0], PFC[1,1]))\n",
    "    return PCF, PFC"
   ]
  },
  {
   "cell_type": "code",
   "execution_count": 201,
   "metadata": {},
   "outputs": [
    {
     "name": "stdout",
     "output_type": "stream",
     "text": [
      "# C            0         1\n",
      "# P(C|F=0)   0.781      0.219\n",
      "# P(C|F=1)   0.882      0.118\n",
      "# P(F=0|C)   0.998      0.999\n",
      "# P(F=1|C)   0.002      0.001\n"
     ]
    },
    {
     "data": {
      "text/plain": [
       "array([[ 0.78137113,  0.88235293],\n",
       "       [ 0.21862887,  0.11764706]])"
      ]
     },
     "execution_count": 201,
     "metadata": {},
     "output_type": "execute_result"
    }
   ],
   "source": [
    "def func(s1, s2, l):\n",
    "    # 只在一个句子中有该词\n",
    "    word = u'滴滴' # 要注意同义词, 手动设置近义疑问词\n",
    "    if (word in s1 and word not in s2) or (word in s2 and word not in s1):\n",
    "#         if l == 1:\n",
    "#             print(s1, s2)\n",
    "        return 1\n",
    "    else:\n",
    "        return 0\n",
    "\n",
    "analyze_boolean_feature(func, True)\n",
    "# 花呗\n",
    "#              0         1\n",
    "# Feature=0  0.787      0.815\n",
    "# Feature=1  0.931      0.265\n",
    "# Feature=0  0.756      0.782\n",
    "# Feature=1  0.038      0.011\n",
    "\n",
    "# 借呗\n",
    "#              0         1\n",
    "# Feature=0  0.786      0.822\n",
    "# Feature=1  0.946      0.208\n",
    "# Feature=0  0.749      0.783\n",
    "# Feature=1  0.044      0.010"
   ]
  },
  {
   "cell_type": "code",
   "execution_count": 190,
   "metadata": {},
   "outputs": [
    {
     "name": "stdout",
     "output_type": "stream",
     "text": [
      "花呗\t P(C=0|F=0)=0.776, P(C=0|F=1)=0.927\n",
      "借呗\t P(C=0|F=0)=0.774, P(C=0|F=1)=0.956\n",
      "分期\t P(C=0|F=0)=0.776, P(C=0|F=1)=0.891\n",
      "多少\t P(C=0|F=0)=0.779, P(C=0|F=1)=0.881\n",
      "逾期\t P(C=0|F=0)=0.779, P(C=0|F=1)=0.912\n",
      "提前\t P(C=0|F=0)=0.779, P(C=0|F=1)=0.934\n",
      "银行卡\t P(C=0|F=0)=0.780, P(C=0|F=1)=0.884\n",
      "余额\t P(C=0|F=0)=0.779, P(C=0|F=1)=0.920\n",
      "淘宝\t P(C=0|F=0)=0.780, P(C=0|F=1)=0.894\n",
      "临时\t P(C=0|F=0)=0.780, P(C=0|F=1)=0.955\n",
      "影响\t P(C=0|F=0)=0.780, P(C=0|F=1)=0.918\n",
      "利息\t P(C=0|F=0)=0.781, P(C=0|F=1)=0.886\n",
      "信用卡\t P(C=0|F=0)=0.780, P(C=0|F=1)=0.946\n",
      "手续费\t P(C=0|F=0)=0.781, P(C=0|F=1)=0.886\n",
      "扣\t P(C=0|F=0)=0.780, P(C=0|F=1)=0.881\n",
      "是不是\t P(C=0|F=0)=0.779, P(C=0|F=1)=0.895\n",
      "最低\t P(C=0|F=0)=0.780, P(C=0|F=1)=0.982\n",
      "宝\t P(C=0|F=0)=0.781, P(C=0|F=1)=0.887\n",
      "不是\t P(C=0|F=0)=0.780, P(C=0|F=1)=0.907\n",
      "算\t P(C=0|F=0)=0.780, P(C=0|F=1)=0.910\n",
      "身份证\t P(C=0|F=0)=0.781, P(C=0|F=1)=0.888\n",
      "为啥\t P(C=0|F=0)=0.783, P(C=0|F=1)=0.676\n",
      "积分\t P(C=0|F=0)=0.781, P(C=0|F=1)=0.885\n",
      "电费\t P(C=0|F=0)=0.781, P(C=0|F=1)=0.929\n",
      "充值\t P(C=0|F=0)=0.782, P(C=0|F=1)=0.662\n",
      "密码\t P(C=0|F=0)=0.781, P(C=0|F=1)=0.947\n",
      "免息\t P(C=0|F=0)=0.781, P(C=0|F=1)=0.980\n",
      "红包\t P(C=0|F=0)=0.781, P(C=0|F=1)=0.944\n",
      "限制\t P(C=0|F=0)=0.781, P(C=0|F=1)=0.923\n",
      "二维码\t P(C=0|F=0)=0.781, P(C=0|F=1)=0.888\n",
      "授权\t P(C=0|F=0)=0.781, P(C=0|F=1)=0.890\n",
      "限额\t P(C=0|F=0)=0.781, P(C=0|F=1)=0.942\n",
      "更改\t P(C=0|F=0)=0.782, P(C=0|F=1)=0.664\n",
      "没到\t P(C=0|F=0)=0.782, P(C=0|F=1)=0.604\n",
      "方式\t P(C=0|F=0)=0.781, P(C=0|F=1)=0.895\n",
      "别人\t P(C=0|F=0)=0.781, P(C=0|F=1)=0.885\n",
      "充\t P(C=0|F=0)=0.782, P(C=0|F=1)=0.627\n",
      "评估\t P(C=0|F=0)=0.781, P(C=0|F=1)=0.908\n",
      "单车\t P(C=0|F=0)=0.781, P(C=0|F=1)=0.955\n",
      "微信\t P(C=0|F=0)=0.781, P(C=0|F=1)=0.964\n",
      "兑换\t P(C=0|F=0)=0.781, P(C=0|F=1)=0.911\n",
      "负\t P(C=0|F=0)=0.781, P(C=0|F=1)=0.913\n",
      "卖家\t P(C=0|F=0)=0.781, P(C=0|F=1)=0.912\n",
      "线下\t P(C=0|F=0)=0.781, P(C=0|F=1)=0.898\n",
      "先\t P(C=0|F=0)=0.781, P(C=0|F=1)=0.924\n",
      "返现\t P(C=0|F=0)=0.781, P(C=0|F=1)=0.929\n",
      "超市\t P(C=0|F=0)=0.781, P(C=0|F=1)=0.891\n",
      "六个月\t P(C=0|F=0)=0.782, P(C=0|F=1)=0.651\n",
      "滴滴\t P(C=0|F=0)=0.781, P(C=0|F=1)=0.882\n",
      "请\t P(C=0|F=0)=0.782, P(C=0|F=1)=0.654\n",
      "双\t P(C=0|F=0)=0.781, P(C=0|F=1)=0.927\n",
      "放款\t P(C=0|F=0)=0.782, P(C=0|F=1)=0.647\n",
      "产生\t P(C=0|F=0)=0.782, P(C=0|F=1)=0.621\n",
      "几个\t P(C=0|F=0)=0.781, P(C=0|F=1)=0.902\n",
      "一期\t P(C=0|F=0)=0.781, P(C=0|F=1)=0.891\n",
      "少\t P(C=0|F=0)=0.781, P(C=0|F=1)=0.883\n",
      "不足\t P(C=0|F=0)=0.781, P(C=0|F=1)=0.913\n",
      "绑\t P(C=0|F=0)=0.781, P(C=0|F=1)=0.883\n",
      "没收\t P(C=0|F=0)=0.782, P(C=0|F=1)=0.667\n",
      "邀请\t P(C=0|F=0)=0.781, P(C=0|F=1)=0.891\n",
      "服务费\t P(C=0|F=0)=0.781, P(C=0|F=1)=0.894\n",
      "店铺\t P(C=0|F=0)=0.781, P(C=0|F=1)=0.907\n",
      "活动\t P(C=0|F=0)=0.781, P(C=0|F=1)=0.885\n",
      "繁忙\t P(C=0|F=0)=0.782, P(C=0|F=1)=0.667\n",
      "密付\t P(C=0|F=0)=0.782, P(C=0|F=1)=0.656\n",
      "电脑\t P(C=0|F=0)=0.781, P(C=0|F=1)=0.974\n",
      "必须\t P(C=0|F=0)=0.781, P(C=0|F=1)=0.941\n",
      "全额\t P(C=0|F=0)=0.781, P(C=0|F=1)=0.944\n",
      "多长时间\t P(C=0|F=0)=0.782, P(C=0|F=1)=0.676\n",
      "津贴\t P(C=0|F=0)=0.782, P(C=0|F=1)=1.000\n",
      "两次\t P(C=0|F=0)=0.781, P(C=0|F=1)=0.916\n",
      "转到\t P(C=0|F=0)=0.782, P(C=0|F=1)=0.645\n",
      "人脸识别\t P(C=0|F=0)=0.782, P(C=0|F=1)=0.652\n",
      "按\t P(C=0|F=0)=0.781, P(C=0|F=1)=0.883\n",
      "证明\t P(C=0|F=0)=0.781, P(C=0|F=1)=0.944\n",
      "共享\t P(C=0|F=0)=0.781, P(C=0|F=1)=0.908\n",
      "几点\t P(C=0|F=0)=0.781, P(C=0|F=1)=0.910\n",
      "负面\t P(C=0|F=0)=0.781, P(C=0|F=1)=0.947\n",
      "推迟\t P(C=0|F=0)=0.782, P(C=0|F=1)=0.558\n",
      "低\t P(C=0|F=0)=0.781, P(C=0|F=1)=0.932\n",
      "通讯录\t P(C=0|F=0)=0.781, P(C=0|F=1)=1.000\n",
      "买家\t P(C=0|F=0)=0.781, P(C=0|F=1)=0.890\n",
      "一起\t P(C=0|F=0)=0.781, P(C=0|F=1)=0.920\n",
      "天猫\t P(C=0|F=0)=0.781, P(C=0|F=1)=0.913\n",
      "一年\t P(C=0|F=0)=0.781, P(C=0|F=1)=0.911\n",
      "学历\t P(C=0|F=0)=0.781, P(C=0|F=1)=0.885\n",
      "几次\t P(C=0|F=0)=0.781, P(C=0|F=1)=0.927\n",
      "口碑\t P(C=0|F=0)=0.781, P(C=0|F=1)=0.951\n",
      "客户\t P(C=0|F=0)=0.781, P(C=0|F=1)=0.895\n",
      "实体店\t P(C=0|F=0)=0.781, P(C=0|F=1)=0.885\n",
      "领取\t P(C=0|F=0)=0.781, P(C=0|F=1)=0.901\n"
     ]
    }
   ],
   "source": [
    "def build_func(word):\n",
    "    def func(s1, s2, l):\n",
    "        # 只在一个句子中有该词\n",
    "        if (word in s1 and word not in s2) or (word in s2 and word not in s1):\n",
    "            return 1\n",
    "        else:\n",
    "            return 0\n",
    "    return func\n",
    "    \n",
    "for w, f in zip(words, freqs):\n",
    "    if f > 100:\n",
    "        func = build_func(w)\n",
    "        PCF, PFC = analyze_boolean_feature(func)\n",
    "        if np.abs(PCF[0,0] - PCF[0,1]) > 0.1:\n",
    "            print(\"{0}\\t P(C=0|F=0)={1:.3f}, P(C=0|F=1)={2:.3f}\".format(w, PCF[0,0], PCF[0,1]))\n",
    "        \n",
    "    "
   ]
  },
  {
   "cell_type": "code",
   "execution_count": 163,
   "metadata": {},
   "outputs": [],
   "source": [
    "def contains(words, l):\n",
    "    for w in words:\n",
    "        if w in l:\n",
    "            return True\n",
    "    return False\n",
    "\n",
    "def func(s1, s2, l):\n",
    "    # 只在一个句子中有该类词\n",
    "    word = [u'借呗'] # 要注意同义词, 手动设置近义疑问词\n",
    "    if (contains(word, s1) and not contains(word, s2)) or (contains(word, s2) and not contains(word, s1)):\n",
    "#         if l == 1:\n",
    "#             print(s1, s2)\n",
    "        return 1\n",
    "    else:\n",
    "        return 0\n",
    "\n",
    "analyze_boolean_feature(func)"
   ]
  },
  {
   "cell_type": "code",
   "execution_count": 117,
   "metadata": {},
   "outputs": [
    {
     "name": "stdout",
     "output_type": "stream",
     "text": [
      "# C            0         1\n",
      "# Feature=0  0.804      0.750\n",
      "# Feature=1  0.766      0.898\n",
      "# Feature=0  0.571      0.532\n",
      "# Feature=1  0.223      0.261\n",
      "# P(F=0|C)   0.719      0.671\n",
      "# P(F=1|C)   0.281      0.329\n"
     ]
    }
   ],
   "source": [
    "def func(s1, s2, l):\n",
    "    # 两个句子里都有该词\n",
    "    word = u'借呗'\n",
    "    if word in s1 and word in s2:\n",
    "        return 1\n",
    "    else:\n",
    "        return 0\n",
    "\n",
    "analyze_boolean_feature(func)"
   ]
  },
  {
   "cell_type": "code",
   "execution_count": 136,
   "metadata": {},
   "outputs": [
    {
     "name": "stdout",
     "output_type": "stream",
     "text": [
      "# C            0         1\n",
      "# Feature=0  0.807      0.742\n",
      "# Feature=1  0.760      0.919\n",
      "# Feature=0  0.572      0.526\n",
      "# Feature=1  0.221      0.267\n",
      "# P(F=0|C)   0.722      0.663\n",
      "# P(F=1|C)   0.278      0.337\n"
     ]
    }
   ],
   "source": [
    "def func(s1, s2, l):\n",
    "    # 两个句子里都没有该词\n",
    "    word = u'花呗'\n",
    "    if word not in s1 and word not in s2:\n",
    "        return 1\n",
    "    else:\n",
    "        return 0\n",
    "\n",
    "analyze_boolean_feature(func)"
   ]
  },
  {
   "cell_type": "code",
   "execution_count": null,
   "metadata": {},
   "outputs": [],
   "source": []
  },
  {
   "cell_type": "code",
   "execution_count": null,
   "metadata": {},
   "outputs": [],
   "source": []
  },
  {
   "cell_type": "code",
   "execution_count": null,
   "metadata": {
    "collapsed": true
   },
   "outputs": [],
   "source": []
  },
  {
   "cell_type": "code",
   "execution_count": null,
   "metadata": {
    "collapsed": true
   },
   "outputs": [],
   "source": []
  }
 ],
 "metadata": {
  "kernelspec": {
   "display_name": "Python 3",
   "language": "python",
   "name": "python3"
  },
  "language_info": {
   "codemirror_mode": {
    "name": "ipython",
    "version": 3
   },
   "file_extension": ".py",
   "mimetype": "text/x-python",
   "name": "python",
   "nbconvert_exporter": "python",
   "pygments_lexer": "ipython3",
   "version": "3.6.3"
  }
 },
 "nbformat": 4,
 "nbformat_minor": 2
}
