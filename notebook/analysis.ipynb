{
 "cells": [
  {
   "cell_type": "code",
   "execution_count": 3,
   "metadata": {
    "collapsed": true
   },
   "outputs": [],
   "source": [
    "train = open('../data/processed/valid.word','r').readlines()"
   ]
  },
  {
   "cell_type": "code",
   "execution_count": 9,
   "metadata": {},
   "outputs": [],
   "source": [
    "s1s = [l.split('\\t')[1].split(' ') for l in train]\n",
    "s2s = [l.split('\\t')[2].split(' ') for l in train]\n",
    "labels = [int(l.split('\\t')[3]) for l in train]"
   ]
  },
  {
   "cell_type": "code",
   "execution_count": 63,
   "metadata": {},
   "outputs": [
    {
     "name": "stdout",
     "output_type": "stream",
     "text": [
      "[3121, 814] 3.8341523341523343\n"
     ]
    }
   ],
   "source": [
    "count = [0,0]\n",
    "for l in labels:\n",
    "    count[l] += 1\n",
    "print(count, float(count[0])/count[1])\n",
    "ratio = float(count[0])/count[1]"
   ]
  },
  {
   "cell_type": "code",
   "execution_count": 115,
   "metadata": {},
   "outputs": [],
   "source": [
    "def analyze_boolean_feature(func):\n",
    "    ratio = float(count[0])/count[1]\n",
    "#     ratio = 1.\n",
    "    n = 0\n",
    "    results = [[0, 0], [0, 0]]\n",
    "    hit = [0,0]\n",
    "    for s1, s2, l in zip(s1s, s2s, labels):\n",
    "        n += 1\n",
    "        r = func(s1, s2, l)\n",
    "        results[r][l] += 1\n",
    "        hit[r] += 1\n",
    "    print(\"# C            0         1\")\n",
    "    print(\"# Feature=0  {0:.3f}      {1:.3f}\".format(results[0][0]/float(hit[0]), results[0][1]/float(hit[0])*ratio))\n",
    "    print(\"# Feature=1  {0:.3f}      {1:.3f}\".format(results[1][0]/float(hit[1]), results[1][1]/float(hit[1])*ratio))\n",
    "    print(\"# Feature=0  {0:.3f}      {1:.3f}\".format(results[0][0]/float(n), results[0][1]/float(n)*ratio))\n",
    "    print(\"# Feature=1  {0:.3f}      {1:.3f}\".format(results[1][0]/float(n), results[1][1]/float(n)*ratio))  \n",
    "    print(\"# P(F=0|C)   {0:.3f}      {1:.3f}\".format(results[0][0]/float(results[0][0]+results[1][0]), results[0][1]/float(results[0][1]+results[1][1])))\n",
    "    print(\"# P(F=1|C)   {0:.3f}      {1:.3f}\".format(results[1][0]/float(results[0][0]+results[1][0]), results[1][1]/float(results[0][1]+results[1][1]))) "
   ]
  },
  {
   "cell_type": "code",
   "execution_count": 135,
   "metadata": {},
   "outputs": [
    {
     "name": "stdout",
     "output_type": "stream",
     "text": [
      "# C            0         1\n",
      "# Feature=0  0.783      0.832\n",
      "# Feature=1  0.860      0.537\n",
      "# Feature=0  0.681      0.723\n",
      "# Feature=1  0.112      0.070\n",
      "# P(F=0|C)   0.858      0.912\n",
      "# P(F=1|C)   0.142      0.088\n"
     ]
    }
   ],
   "source": [
    "def func(s1, s2, l):\n",
    "    # 只在一个句子中有该词\n",
    "    word = u'还款' # 要注意同义词, 手动设置近义疑问词\n",
    "    if (word in s1 and word not in s2) or (word in s2 and word not in s1):\n",
    "#         if l == 1:\n",
    "#             print(s1, s2)\n",
    "        return 1\n",
    "    else:\n",
    "        return 0\n",
    "\n",
    "analyze_boolean_feature(func)\n",
    "# 花呗\n",
    "#              0         1\n",
    "# Feature=0  0.787      0.815\n",
    "# Feature=1  0.931      0.265\n",
    "# Feature=0  0.756      0.782\n",
    "# Feature=1  0.038      0.011\n",
    "\n",
    "# 借呗\n",
    "#              0         1\n",
    "# Feature=0  0.786      0.822\n",
    "# Feature=1  0.946      0.208\n",
    "# Feature=0  0.749      0.783\n",
    "# Feature=1  0.044      0.010"
   ]
  },
  {
   "cell_type": "code",
   "execution_count": 134,
   "metadata": {},
   "outputs": [
    {
     "name": "stdout",
     "output_type": "stream",
     "text": [
      "# C            0         1\n",
      "# Feature=0  0.786      0.822\n",
      "# Feature=1  0.946      0.208\n",
      "# Feature=0  0.749      0.783\n",
      "# Feature=1  0.044      0.010\n",
      "# P(F=0|C)   0.944      0.988\n",
      "# P(F=1|C)   0.056      0.012\n"
     ]
    }
   ],
   "source": [
    "def contains(words, l):\n",
    "    for w in words:\n",
    "        if w in l:\n",
    "            return True\n",
    "    return False\n",
    "\n",
    "def func(s1, s2, l):\n",
    "    # 只在一个句子中有该词\n",
    "    words = [u'借呗'] # 要注意同义词, 手动设置近义疑问词\n",
    "    if (contains(words, s1) and not contains(words, s2)) or (contains(words, s2) and not contains(words, s1)):\n",
    "#         if l == 1:\n",
    "#             print(s1, s2)\n",
    "        return 1\n",
    "    else:\n",
    "        return 0\n",
    "\n",
    "analyze_boolean_feature(func)"
   ]
  },
  {
   "cell_type": "code",
   "execution_count": 117,
   "metadata": {},
   "outputs": [
    {
     "name": "stdout",
     "output_type": "stream",
     "text": [
      "# C            0         1\n",
      "# Feature=0  0.804      0.750\n",
      "# Feature=1  0.766      0.898\n",
      "# Feature=0  0.571      0.532\n",
      "# Feature=1  0.223      0.261\n",
      "# P(F=0|C)   0.719      0.671\n",
      "# P(F=1|C)   0.281      0.329\n"
     ]
    }
   ],
   "source": [
    "def func(s1, s2, l):\n",
    "    # 两个句子里都有该词\n",
    "    word = u'借呗'\n",
    "    if word in s1 and word in s2:\n",
    "        return 1\n",
    "    else:\n",
    "        return 0\n",
    "\n",
    "analyze_boolean_feature(func)"
   ]
  },
  {
   "cell_type": "code",
   "execution_count": 118,
   "metadata": {},
   "outputs": [
    {
     "name": "stdout",
     "output_type": "stream",
     "text": [
      "# C            0         1\n",
      "# Feature=0  0.807      0.742\n",
      "# Feature=1  0.760      0.919\n",
      "# Feature=0  0.572      0.526\n",
      "# Feature=1  0.221      0.267\n",
      "# P(F=0|C)   0.722      0.663\n",
      "# P(F=1|C)   0.278      0.337\n"
     ]
    }
   ],
   "source": [
    "def func(s1, s2, l):\n",
    "    # 两个句子里都没有该词\n",
    "    word = u'花呗'\n",
    "    if word not in s1 and word not in s2:\n",
    "        return 1\n",
    "    else:\n",
    "        return 0\n",
    "\n",
    "analyze_boolean_feature(func)"
   ]
  },
  {
   "cell_type": "code",
   "execution_count": 46,
   "metadata": {
    "collapsed": true
   },
   "outputs": [],
   "source": [
    "s = '花呗 问题 给 您 转接 核实 下   吗'"
   ]
  },
  {
   "cell_type": "code",
   "execution_count": 47,
   "metadata": {},
   "outputs": [
    {
     "data": {
      "text/plain": [
       "['花呗', '问题', '给', '您', '转接', '核实', '下', '', '', '吗']"
      ]
     },
     "execution_count": 47,
     "metadata": {},
     "output_type": "execute_result"
    }
   ],
   "source": [
    "s.split(\" \")"
   ]
  },
  {
   "cell_type": "code",
   "execution_count": null,
   "metadata": {
    "collapsed": true
   },
   "outputs": [],
   "source": []
  }
 ],
 "metadata": {
  "kernelspec": {
   "display_name": "Python 3",
   "language": "python",
   "name": "python3"
  },
  "language_info": {
   "codemirror_mode": {
    "name": "ipython",
    "version": 3
   },
   "file_extension": ".py",
   "mimetype": "text/x-python",
   "name": "python",
   "nbconvert_exporter": "python",
   "pygments_lexer": "ipython3",
   "version": "3.6.3"
  }
 },
 "nbformat": 4,
 "nbformat_minor": 2
}
