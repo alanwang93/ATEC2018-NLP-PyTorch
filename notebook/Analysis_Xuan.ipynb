{
 "cells": [
  {
   "cell_type": "code",
   "execution_count": 1,
   "metadata": {},
   "outputs": [],
   "source": [
    "train = open('../data/processed/train.word','r').readlines()\n",
    "freq = open('../data/processed/train.word','r').readlines()"
   ]
  },
  {
   "cell_type": "code",
   "execution_count": null,
   "metadata": {},
   "outputs": [],
   "source": [
    "s1s = [l.split('\\t')[1].split(' ') for l in train]\n",
    "s2s = [l.split('\\t')[2].split(' ') for l in train]\n",
    "labels = [int(l.split('\\t')[3]) for l in train]"
   ]
  }
 ],
 "metadata": {
  "kernelspec": {
   "display_name": "Python 3",
   "language": "python",
   "name": "python3"
  },
  "language_info": {
   "codemirror_mode": {
    "name": "ipython",
    "version": 2
   },
   "file_extension": ".py",
   "mimetype": "text/x-python",
   "name": "python",
   "nbconvert_exporter": "python",
   "pygments_lexer": "ipython2",
   "version": "2.7.13"
  }
 },
 "nbformat": 4,
 "nbformat_minor": 2
}
